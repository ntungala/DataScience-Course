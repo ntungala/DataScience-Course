{
 "cells": [
  {
   "cell_type": "markdown",
   "id": "ce344634",
   "metadata": {},
   "source": [
    "# Data Science Tools and Ecosystem"
   ]
  },
  {
   "cell_type": "markdown",
   "id": "c304bc44",
   "metadata": {},
   "source": [
    "## Author\n",
    "Nikhil Tungala"
   ]
  },
  {
   "cell_type": "markdown",
   "id": "3893c370",
   "metadata": {},
   "source": [
    "## In this notebook, Data Science Tools and Ecosystem are summarized."
   ]
  },
  {
   "cell_type": "markdown",
   "id": "8a477b11",
   "metadata": {},
   "source": [
    "### Objectives:\n",
    "\n",
    "- Popular Languages for Data Science\n",
    "- Popular Python Libraries for Data Science\n",
    "- Data Science Tools\n",
    "- Examples of Arthematic expressions"
   ]
  },
  {
   "cell_type": "markdown",
   "id": "000156d8",
   "metadata": {},
   "source": [
    "### Some of the popular languages that Data Scientists use are:\n",
    "1. Python\n",
    "2. R\n",
    "3. SQL\n",
    "4. Scala\n",
    "5. Java\n",
    "6. C#\n",
    "7.Julia"
   ]
  },
  {
   "cell_type": "markdown",
   "id": "0947aab4",
   "metadata": {},
   "source": [
    "### Some of the commonly used libraries used by Data Scientists include:\n",
    "1. Pandas\n",
    "2. Numpy\n",
    "3. SciPy\n",
    "4. MatPlotLib"
   ]
  },
  {
   "cell_type": "markdown",
   "id": "3e661ad6",
   "metadata": {},
   "source": [
    "|Data Science Tools|\n",
    "-----------------------------\n",
    "|Jupyter Notebook|\n",
    "|Apache Spark|\n",
    "|Knime|\n",
    "|Apache Flink|"
   ]
  },
  {
   "cell_type": "markdown",
   "id": "3f7f8b44",
   "metadata": {},
   "source": [
    "### Below are a few examples of evaluating arithmetic expressions in Python"
   ]
  },
  {
   "cell_type": "code",
   "execution_count": 1,
   "id": "a359358a",
   "metadata": {},
   "outputs": [
    {
     "name": "stdout",
     "output_type": "stream",
     "text": [
      "17\n"
     ]
    }
   ],
   "source": [
    "# This a simple arithmetic expression to mutiply then add integers\n",
    "\n",
    "print((3*4)+5)"
   ]
  },
  {
   "cell_type": "code",
   "execution_count": 4,
   "id": "9836712c",
   "metadata": {},
   "outputs": [
    {
     "name": "stdout",
     "output_type": "stream",
     "text": [
      "3.3333333333333335\n"
     ]
    }
   ],
   "source": [
    "# This will convert 200 minutes to hours by diving by 60\n",
    "mins = 200\n",
    "hrs = mins / 60\n",
    "print (hrs)"
   ]
  }
 ],
 "metadata": {
  "kernelspec": {
   "display_name": "Python 3 (ipykernel)",
   "language": "python",
   "name": "python3"
  },
  "language_info": {
   "codemirror_mode": {
    "name": "ipython",
    "version": 3
   },
   "file_extension": ".py",
   "mimetype": "text/x-python",
   "name": "python",
   "nbconvert_exporter": "python",
   "pygments_lexer": "ipython3",
   "version": "3.9.12"
  }
 },
 "nbformat": 4,
 "nbformat_minor": 5
}
